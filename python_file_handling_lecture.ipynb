{
  "cells": [
    {
      "cell_type": "markdown",
      "metadata": {
        "id": "view-in-github",
        "colab_type": "text"
      },
      "source": [
        "<a href=\"https://colab.research.google.com/github/1235357/Python-Basics-File-Handling-Lecture/blob/main/python_file_handling_lecture.ipynb\" target=\"_parent\"><img src=\"https://colab.research.google.com/assets/colab-badge.svg\" alt=\"Open In Colab\"/></a>"
      ]
    },
    {
      "cell_type": "markdown",
      "metadata": {
        "id": "K-Wmh3c2ECG0"
      },
      "source": [
        "# Python Basics: Complete File Handling Tutorial\n",
        "\n",
        "**Instructor**: Zhentong Ye (1235357)  \n",
        "**Duration**: 35-45 minutes  \n",
        "**Platform**: Jupyter Notebook\n",
        "\n",
        "---\n",
        "\n",
        "## Course Outline - Progressive Difficulty Structure\n",
        "\n",
        "### Level 1: Foundation (12 minutes)\n",
        "1. **What is File Handling?** - Understanding the basics\n",
        "2. **Your First File** - Simple open and close\n",
        "3. **The Magic Word: 'with'** - Safe file handling\n",
        "4. **Basic Reading** - read() method\n",
        "\n",
        "### Level 2: Essential Skills (10 minutes)\n",
        "5. **Line by Line Reading** - readline() and iteration\n",
        "6. **Reading Multiple Lines** - readlines() method\n",
        "7. **Your First Write** - write() method\n",
        "8. **Adding to Files** - append mode\n",
        "\n",
        "### Level 3: Real-World Skills (8 minutes)\n",
        "9. **When Things Go Wrong** - Exception handling\n",
        "10. **File Modes Explained** - r, w, a, x modes\n",
        "11. **Text Encoding** - UTF-8 and character sets\n",
        "\n",
        "### Level 4: Professional Applications (10 minutes)\n",
        "12. **Working with CSV Files** - Structured data\n",
        "13. **Text File Processing** - Real applications\n",
        "14. **Best Practices** - Production-ready code\n",
        "\n",
        "### Level 5: Hands-On Practice (5 minutes)\n",
        "15. **Progressive Challenges** - From simple to advanced\n",
        "\n",
        "---\n",
        "\n",
        "## Learning Objectives\n",
        "\n",
        "By the end of this tutorial, you will:\n",
        "- Master basic file operations (open, read, write, close)\n",
        "- Handle errors gracefully in file operations\n",
        "- Work with different file formats (text, CSV, JSON)\n",
        "- Apply file handling to real-world problems\n",
        "- Follow Python best practices for file handling"
      ]
    },
    {
      "cell_type": "markdown",
      "metadata": {
        "id": "9PK6ih84ECG1"
      },
      "source": [
        "# Setup: Creating Sample Data Files for Learning\n",
        "\n",
        "**Important**: This cell creates all the sample data files we'll use throughout the tutorial. Run this first!"
      ]
    },
    {
      "cell_type": "code",
      "source": [
        "# Generate simulated data for subsequent lessons!!!\n",
        "import os\n",
        "import csv\n",
        "import json\n",
        "from datetime import datetime"
      ],
      "metadata": {
        "id": "93XRw6dtm-iK"
      },
      "execution_count": null,
      "outputs": []
    },
    {
      "cell_type": "code",
      "metadata": {
        "ExecuteTime": {
          "end_time": "2025-09-28T04:56:47.438777Z",
          "start_time": "2025-09-28T04:56:47.429526Z"
        },
        "id": "FbRCofHKECG1"
      },
      "source": [
        "# Create directories\n",
        "directories = ['practice_files', 'output', 'data']\n",
        "for directory in directories:\n",
        "    os.makedirs(directory, exist_ok=True)\n",
        "    print(f\"✓ Created directory: {directory}\")\n",
        "\n",
        "# 1. Create Sales Data (CSV format) - for learning structured data processing\n",
        "sales_data = [\n",
        "    ['Date', 'Product', 'Category', 'Quantity', 'Price', 'Total'],\n",
        "    ['2024-01-15', 'Laptop', 'Electronics', '2', '999.99', '1999.98'],\n",
        "    ['2024-01-16', 'Coffee Mug', 'Kitchen', '5', '12.50', '62.50'],\n",
        "    ['2024-01-17', 'Book', 'Education', '3', '25.00', '75.00'],\n",
        "    ['2024-01-18', 'Smartphone', 'Electronics', '1', '699.99', '699.99'],\n",
        "    ['2024-01-19', 'Desk Chair', 'Furniture', '1', '199.99', '199.99']\n",
        "]\n",
        "\n",
        "with open('data/sales_data.csv', 'w', newline='', encoding='utf-8') as f:\n",
        "    writer = csv.writer(f)\n",
        "    writer.writerows(sales_data)\n",
        "print(\"✓ Created sales_data.csv with\", len(sales_data)-1, \"records\")\n",
        "\n",
        "# 2. Create Log Data (TXT format) - for learning text data processing\n",
        "log_entries = [\n",
        "    \"[2024-01-15 09:00:00] INFO: Application started successfully\",\n",
        "    \"[2024-01-15 09:15:23] INFO: User login: john_doe\",\n",
        "    \"[2024-01-15 09:30:45] WARNING: High memory usage detected (85%)\",\n",
        "    \"[2024-01-15 09:45:12] ERROR: Database connection timeout\",\n",
        "    \"[2024-01-15 10:00:33] INFO: Database connection restored\",\n",
        "    \"[2024-01-15 10:15:56] INFO: User logout: john_doe\",\n",
        "    \"[2024-01-15 10:30:18] WARNING: Disk space low (15% remaining)\",\n",
        "    \"[2024-01-15 10:45:41] ERROR: Failed to save user preferences\",\n",
        "    \"[2024-01-15 11:00:04] INFO: System backup completed\"\n",
        "]\n",
        "\n",
        "with open('data/application.log', 'w', encoding='utf-8') as f:\n",
        "    for entry in log_entries:\n",
        "        f.write(entry + '\\n')\n",
        "print(\"✓ Created application.log with\", len(log_entries), \"log entries\")\n",
        "\n",
        "# 3. Create Configuration Data (JSON format) - for learning semi-structured data processing\n",
        "config_data = {\n",
        "    \"application\": {\n",
        "        \"name\": \"File Handler Pro\",\n",
        "        \"version\": \"2.1.0\",\n",
        "        \"debug_mode\": False\n",
        "    },\n",
        "    \"database\": {\n",
        "        \"host\": \"localhost\",\n",
        "        \"port\": 5432,\n",
        "        \"name\": \"filehandler_db\",\n",
        "        \"timeout\": 30\n",
        "    },\n",
        "    \"logging\": {\n",
        "        \"level\": \"INFO\",\n",
        "        \"file\": \"application.log\",\n",
        "        \"max_size_mb\": 100\n",
        "    },\n",
        "    \"features\": {\n",
        "        \"auto_backup\": True,\n",
        "        \"compression\": True,\n",
        "        \"encryption\": False\n",
        "    }\n",
        "}\n",
        "\n",
        "with open('data/config.json', 'w', encoding='utf-8') as f:\n",
        "    json.dump(config_data, f, indent=2)\n",
        "print(\"✓ Created config.json with application settings\")\n",
        "\n",
        "# 4. Create a simple text file for basic operations\n",
        "sample_text = \"\"\"Welcome to Python File Handling!\n",
        "This is line 2 of our sample file.\n",
        "Line 3 contains some numbers: 123, 456, 789.\n",
        "The last line has special characters: @#$%^&*()\"\"\"\n",
        "\n",
        "with open('practice_files/sample.txt', 'w', encoding='utf-8') as f:\n",
        "    f.write(sample_text)\n",
        "print(\"✓ Created sample.txt for basic operations\")\n",
        "\n",
        "print(\"\\n🎉 All sample data files created successfully!\")\n",
        "print(\"📁 Files created:\")\n",
        "print(\"   - data/sales_data.csv (structured data)\")\n",
        "print(\"   - data/application.log (text data)\")\n",
        "print(\"   - data/config.json (semi-structured data)\")\n",
        "print(\"   - practice_files/sample.txt (basic text)\")"
      ],
      "outputs": [],
      "execution_count": null
    },
    {
      "cell_type": "markdown",
      "metadata": {
        "id": "R-CB_OtkECG2"
      },
      "source": [
        "# Level 1: Foundation - Building Your First File Skills\n",
        "\n",
        "## What is File Handling?\n",
        "\n",
        "File handling is like having a conversation with your computer's storage system. Just as you might read a book, write notes, or organize documents, Python can:\n",
        "\n",
        "- **Read files** - Get information from stored files\n",
        "- **Write files** - Save information to storage  \n",
        "- **Modify files** - Update existing content\n",
        "- **Organize files** - Manage file operations\n",
        "\n",
        "### Why Learn File Handling?\n",
        "\n",
        "File handling is essential for:\n",
        "- **Data Science**: Reading datasets, saving analysis results\n",
        "- **Web Development**: Configuration files, user data\n",
        "- **Automation**: Processing multiple files, generating reports\n",
        "- **Everyday Programming**: Logs, settings, data persistence"
      ]
    },
    {
      "cell_type": "markdown",
      "metadata": {
        "id": "fZoGzqzmECG2"
      },
      "source": [
        "## Your First File: Opening and Reading\n",
        "\n",
        "The most basic operation is reading a file. Let's start simple:"
      ]
    },
    {
      "cell_type": "code",
      "metadata": {
        "ExecuteTime": {
          "end_time": "2025-09-28T05:01:12.022997Z",
          "start_time": "2025-09-28T05:01:12.019333Z"
        },
        "id": "ZIeqCXc7ECG2"
      },
      "source": [
        "# Method 1: Basic file opening (we'll improve this)\n",
        "file = open('practice_files/sample.txt', 'r')\n",
        "content = file.read()\n",
        "print(\"File content:\")\n",
        "print(content)\n",
        "file.close()  # Don't forget this!\n",
        "\n",
        "print(\"\\n📝 What just happened?\")\n",
        "print(\"1. open() - Opens the file for reading ('r' means read mode)\")\n",
        "print(\"2. read() - Reads the entire file content\")\n",
        "print(\"3. close() - Closes the file (very important!)\")"
      ],
      "outputs": [],
      "execution_count": null
    },
    {
      "cell_type": "markdown",
      "metadata": {
        "id": "fqW5rhukECG2"
      },
      "source": [
        "**But there's a problem with this approach...**\n",
        "\n",
        "What if something goes wrong and `close()` never runs? The file stays open, wasting resources!\n",
        "\n",
        "## The Magic Word: 'with'\n",
        "\n",
        "Python's solution: the `with` statement"
      ]
    },
    {
      "cell_type": "code",
      "metadata": {
        "ExecuteTime": {
          "end_time": "2025-09-28T05:01:51.275141Z",
          "start_time": "2025-09-28T05:01:51.271190Z"
        },
        "id": "GD0gF2xCECG2"
      },
      "source": [
        "# Method 2: Using 'with' (much better!)\n",
        "with open('practice_files/sample.txt', 'r') as f:\n",
        "    content = f.read()\n",
        "    print(\"Content using 'with':\")\n",
        "    print(content)\n",
        "# File automatically closes here, even if errors occur!\n",
        "\n",
        "print(\"\\n✨ Why 'with' is magic:\")\n",
        "print(\"- Automatically closes files\")\n",
        "print(\"- Works even if errors occur\")\n",
        "print(\"- Cleaner, more readable code\")\n",
        "print(\"- Python best practice\")"
      ],
      "outputs": [],
      "execution_count": null
    },
    {
      "cell_type": "markdown",
      "metadata": {
        "id": "tSlidToKECG2"
      },
      "source": [
        "## 🎯 Your Turn: Practice Basic File Reading\n",
        "\n",
        "Now it's your turn! Try reading the sales data file we created earlier."
      ]
    },
    {
      "cell_type": "code",
      "metadata": {
        "id": "U6ToTPRwECG2"
      },
      "source": [
        "# Your task: Read the sales_data.csv file and print its content\n",
        "# Hint: Use the 'with' statement and the file is at 'data/sales_data.csv'\n",
        "\n",
        "# Step 1: Open the file using 'with' statement\n",
        "# Step 2: Read the content using .read()\n",
        "# Step 3: Print the content\n",
        "\n",
        "# Write your code here:\n"
      ],
      "outputs": [],
      "execution_count": null
    },
    {
      "cell_type": "markdown",
      "metadata": {
        "id": "UFShYG86ECG2"
      },
      "source": [
        "## Understanding File Modes\n",
        "\n",
        "Before we go further, let's understand how to open files:"
      ]
    },
    {
      "cell_type": "code",
      "metadata": {
        "id": "kPfA_gSZECG2"
      },
      "source": [
        "# Different ways to open files\n",
        "print(\"📖 File Modes:\")\n",
        "print(\"'r'  - Read mode (default)\")\n",
        "print(\"'w'  - Write mode (overwrites existing)\")\n",
        "print(\"'a'  - Append mode (adds to end)\")\n",
        "print(\"'x'  - Create mode (fails if exists)\")\n",
        "\n",
        "# Let's see the difference:\n",
        "# Write mode - creates new file or overwrites existing\n",
        "with open('practice_files/modes_test.txt', 'w') as f:\n",
        "    f.write(\"This is write mode\\n\")\n",
        "    f.write(\"It overwrites everything\\n\")\n",
        "\n",
        "print(\"\\n✓ File created with write mode\")\n",
        "\n",
        "# Read what we just wrote\n",
        "with open('practice_files/modes_test.txt', 'r') as f:\n",
        "    content = f.read()\n",
        "    print(\"Content after write mode:\")\n",
        "    print(content)"
      ],
      "outputs": [],
      "execution_count": null
    },
    {
      "cell_type": "markdown",
      "metadata": {
        "id": "HpIEIAbDECG2"
      },
      "source": [
        "# Level 2: Essential Skills - Reading and Writing Like a Pro\n",
        "\n",
        "## Line by Line Reading: readline()\n",
        "\n",
        "Sometimes you don't want to read the entire file at once:"
      ]
    },
    {
      "cell_type": "code",
      "metadata": {
        "id": "V0cksmKGECG3"
      },
      "source": [
        "# Reading one line at a time\n",
        "with open('practice_files/sample.txt', 'r') as f:\n",
        "    first_line = f.readline()\n",
        "    second_line = f.readline()\n",
        "\n",
        "    print(\"First line:\", repr(first_line))\n",
        "    print(\"Second line:\", repr(second_line))\n",
        "\n",
        "print(\"\\n💡 Notice the \\\\n at the end? That's the newline character!\")\n",
        "\n",
        "# Clean up the lines\n",
        "with open('practice_files/sample.txt', 'r') as f:\n",
        "    first_line = f.readline().strip()  # strip() removes \\n\n",
        "    second_line = f.readline().strip()\n",
        "\n",
        "    print(\"\\nClean first line:\", first_line)\n",
        "    print(\"Clean second line:\", second_line)"
      ],
      "outputs": [],
      "execution_count": null
    },
    {
      "cell_type": "markdown",
      "metadata": {
        "id": "XPSeqyYwECG3"
      },
      "source": [
        "## The Python Way: File Iteration\n",
        "\n",
        "The most elegant way to read files line by line:"
      ]
    },
    {
      "cell_type": "code",
      "metadata": {
        "id": "I8pwPeKYECG3"
      },
      "source": [
        "# Iteration - the Pythonic way\n",
        "print(\"📖 Reading line by line:\")\n",
        "with open('practice_files/sample.txt', 'r') as f:\n",
        "    for line_number, line in enumerate(f, 1):\n",
        "        clean_line = line.strip()\n",
        "        print(f\"Line {line_number}: {clean_line}\")\n",
        "\n",
        "print(\"\\n✨ This approach is:\")\n",
        "print(\"- Memory efficient (doesn't load entire file)\")\n",
        "print(\"- Clean and readable\")\n",
        "print(\"- Handles large files well\")"
      ],
      "outputs": [],
      "execution_count": null
    },
    {
      "cell_type": "markdown",
      "metadata": {
        "id": "n7Lud7m8ECG3"
      },
      "source": [
        "## 🎯 Your Turn: Practice Line-by-Line Reading\n",
        "\n",
        "Let's practice reading the log file line by line and counting different log levels."
      ]
    },
    {
      "cell_type": "code",
      "metadata": {
        "id": "u8scHJ9ZECG3"
      },
      "source": [
        "# Your task: Read the log file and count INFO, WARNING, and ERROR messages\n",
        "# File location: 'data/application.log'\n",
        "\n",
        "# Initialize counters\n",
        "info_count = 0\n",
        "warning_count = 0\n",
        "error_count = 0\n",
        "\n",
        "# Step 1: Open the log file\n",
        "# Step 2: Read each line\n",
        "# Step 3: Check if line contains 'INFO', 'WARNING', or 'ERROR'\n",
        "# Step 4: Increment appropriate counter\n",
        "# Step 5: Print the results\n",
        "\n",
        "# Write your code here:\n",
        "\n",
        "\n",
        "# Print results (uncomment when ready)\n",
        "# print(f\"📊 Log Analysis Results:\")\n",
        "# print(f\"INFO messages: {info_count}\")\n",
        "# print(f\"WARNING messages: {warning_count}\")\n",
        "# print(f\"ERROR messages: {error_count}\")"
      ],
      "outputs": [],
      "execution_count": null
    },
    {
      "cell_type": "markdown",
      "metadata": {
        "id": "WImDpoegECG3"
      },
      "source": [
        "## Reading All Lines: readlines()\n",
        "\n",
        "When you want all lines in a list:"
      ]
    },
    {
      "cell_type": "code",
      "metadata": {
        "id": "PzkOKHoSECG3"
      },
      "source": [
        "# readlines() returns a list\n",
        "with open('practice_files/sample.txt', 'r') as f:\n",
        "    all_lines = f.readlines()\n",
        "\n",
        "    print(\"Type:\", type(all_lines))\n",
        "    print(\"Number of lines:\", len(all_lines))\n",
        "    print(\"Raw lines:\", all_lines)\n",
        "\n",
        "# Clean up the lines\n",
        "with open('practice_files/sample.txt', 'r') as f:\n",
        "    all_lines = f.readlines()\n",
        "    clean_lines = [line.strip() for line in all_lines]\n",
        "\n",
        "    print(\"\\nClean lines:\", clean_lines)"
      ],
      "outputs": [],
      "execution_count": null
    },
    {
      "cell_type": "markdown",
      "metadata": {
        "id": "bwXQbR_ZECG3"
      },
      "source": [
        "## Your First Write Operation\n",
        "\n",
        "Now let's create our own content:"
      ]
    },
    {
      "cell_type": "code",
      "metadata": {
        "id": "uXzRlzZ3ECG3"
      },
      "source": [
        "# Writing a simple file\n",
        "my_content = \"\"\"Welcome to my file!\n",
        "I am learning Python file handling.\n",
        "This is going to be awesome!\"\"\"\n",
        "\n",
        "with open('output/my_first_file.txt', 'w') as f:\n",
        "    f.write(my_content)\n",
        "\n",
        "print(\"✓ File written successfully!\")\n",
        "\n",
        "# Verify what we wrote\n",
        "with open('output/my_first_file.txt', 'r') as f:\n",
        "    content = f.read()\n",
        "    print(\"\\nWhat I wrote:\")\n",
        "    print(content)"
      ],
      "outputs": [],
      "execution_count": null
    },
    {
      "cell_type": "markdown",
      "metadata": {
        "id": "tJnyTIblECG3"
      },
      "source": [
        "## 🎯 Your Turn: Create Your Own File\n",
        "\n",
        "Create a personal learning journal entry!"
      ]
    },
    {
      "cell_type": "code",
      "metadata": {
        "id": "ECc8TIRSECG3"
      },
      "source": [
        "# Your task: Create a learning journal entry\n",
        "# Include: Date, what you learned today, and your thoughts\n",
        "\n",
        "from datetime import datetime\n",
        "\n",
        "# Step 1: Get current date\n",
        "today = datetime.now().strftime(\"%Y-%m-%d\")\n",
        "\n",
        "# Step 2: Create your journal entry content\n",
        "# Include the date, what you learned, and your thoughts\n",
        "\n",
        "# Step 3: Write to 'output/learning_journal.txt'\n",
        "\n",
        "# Step 4: Read it back and print to verify\n",
        "\n",
        "# Write your code here:\n"
      ],
      "outputs": [],
      "execution_count": null
    },
    {
      "cell_type": "markdown",
      "metadata": {
        "id": "Sb9p_bdmECG3"
      },
      "source": [
        "## Writing Multiple Lines: writelines()\n",
        "\n",
        "When you have multiple lines to write:"
      ]
    },
    {
      "cell_type": "code",
      "metadata": {
        "id": "DEFxqXO8ECG3"
      },
      "source": [
        "# Prepare lines to write\n",
        "shopping_list = [\n",
        "    \"Apples\\n\",\n",
        "    \"Bananas\\n\",\n",
        "    \"Carrots\\n\",\n",
        "    \"Dates\\n\"\n",
        "]\n",
        "\n",
        "with open('output/shopping.txt', 'w') as f:\n",
        "    f.writelines(shopping_list)\n",
        "\n",
        "print(\"✓ Shopping list written!\")\n",
        "\n",
        "# Read it back\n",
        "with open('output/shopping.txt', 'r') as f:\n",
        "    content = f.read()\n",
        "    print(\"Shopping list:\")\n",
        "    print(content)\n",
        "\n",
        "print(\"⚠️ Important: writelines() doesn't add newlines automatically!\")\n",
        "\n",
        "# Without newlines\n",
        "items_no_newline = [\"Eggs\", \"Flour\", \"Sugar\"]\n",
        "\n",
        "with open('output/no_newlines.txt', 'w') as f:\n",
        "    f.writelines(items_no_newline)\n",
        "\n",
        "# Check the result\n",
        "with open('output/no_newlines.txt', 'r') as f:\n",
        "    print(\"\\nWithout newlines:\", repr(f.read()))"
      ],
      "outputs": [],
      "execution_count": null
    },
    {
      "cell_type": "markdown",
      "metadata": {
        "id": "Pi6dxwZgECG3"
      },
      "source": [
        "## Adding to Files: Append Mode\n",
        "\n",
        "Sometimes you want to add to existing files without overwriting:"
      ]
    },
    {
      "cell_type": "code",
      "metadata": {
        "id": "CxkStWvTECG3"
      },
      "source": [
        "# Start with a base file\n",
        "with open('output/diary.txt', 'w') as f:\n",
        "    f.write(\"My Python Learning Diary\\n\")\n",
        "    f.write(\"Day 1: Started learning file handling\\n\")\n",
        "\n",
        "print(\"✓ Diary created\")\n",
        "\n",
        "# Add to existing file\n",
        "with open('output/diary.txt', 'a') as f:  # 'a' for append\n",
        "    f.write(\"Day 2: Learned about append mode\\n\")\n",
        "    f.write(\"Day 3: Getting more confident!\\n\")\n",
        "\n",
        "print(\"✓ Entries added to diary\")\n",
        "\n",
        "# Read the complete diary\n",
        "with open('output/diary.txt', 'r') as f:\n",
        "    diary_content = f.read()\n",
        "    print(\"\\n📖 Complete diary:\")\n",
        "    print(diary_content)"
      ],
      "outputs": [],
      "execution_count": null
    },
    {
      "cell_type": "markdown",
      "metadata": {
        "id": "sEuxHgiRECG3"
      },
      "source": [
        "# Level 3: Real-World Skills - Handling Problems and Encoding\n",
        "\n",
        "## When Things Go Wrong: Exception Handling\n",
        "\n",
        "Real programs must handle errors gracefully:"
      ]
    },
    {
      "cell_type": "code",
      "metadata": {
        "id": "p4PUyfY2ECG3"
      },
      "source": [
        "# What happens with a missing file?\n",
        "try:\n",
        "    with open('practice_files/missing.txt', 'r') as f:\n",
        "        content = f.read()\n",
        "        print(content)\n",
        "except FileNotFoundError:\n",
        "    print(\"🚫 Oops! File not found. That's okay, we handled it!\")\n",
        "\n",
        "# A robust file reading function\n",
        "def safe_read_file(filename):\n",
        "    \"\"\"Safely read a file with error handling\"\"\"\n",
        "    try:\n",
        "        with open(filename, 'r', encoding='utf-8') as f:\n",
        "            return f.read()\n",
        "    except FileNotFoundError:\n",
        "        print(f\"❌ File not found: {filename}\")\n",
        "        return None\n",
        "    except PermissionError:\n",
        "        print(f\"🔒 Permission denied: {filename}\")\n",
        "        return None\n",
        "    except Exception as e:\n",
        "        print(f\"⚠️ Unexpected error: {e}\")\n",
        "        return None\n",
        "\n",
        "# Test it\n",
        "result = safe_read_file('practice_files/sample.txt')\n",
        "if result:\n",
        "    print(\"✅ Success! First 50 characters:\", result[:50])\n",
        "\n",
        "result = safe_read_file('practice_files/missing.txt')\n",
        "print(\"Missing file result:\", result)"
      ],
      "outputs": [],
      "execution_count": null
    },
    {
      "cell_type": "markdown",
      "metadata": {
        "id": "1UU8xWxqECG3"
      },
      "source": [
        "## 🎯 Your Turn: Practice Error Handling\n",
        "\n",
        "Create a function that safely processes multiple files."
      ]
    },
    {
      "cell_type": "code",
      "metadata": {
        "id": "TtSA8iODECG3"
      },
      "source": [
        "# Your task: Create a function that processes multiple files safely\n",
        "# It should try to read each file and report success/failure\n",
        "\n",
        "def process_multiple_files(file_list):\n",
        "    \"\"\"Process multiple files and report results\"\"\"\n",
        "    results = {}\n",
        "\n",
        "    # Step 1: Loop through each file in file_list\n",
        "    # Step 2: Try to read each file\n",
        "    # Step 3: Store success/failure in results dictionary\n",
        "    # Step 4: Return results\n",
        "\n",
        "    # Write your code here:\n",
        "\n",
        "    return results\n",
        "\n",
        "# Test files (some exist, some don't)\n",
        "test_files = [\n",
        "    'practice_files/sample.txt',\n",
        "    'data/sales_data.csv',\n",
        "    'data/missing_file.txt',\n",
        "    'data/application.log'\n",
        "]\n",
        "\n",
        "# Test your function (uncomment when ready)\n",
        "# results = process_multiple_files(test_files)\n",
        "# print(\"📊 Processing Results:\")\n",
        "# for file, status in results.items():\n",
        "#     print(f\"  {file}: {status}\")"
      ],
      "outputs": [],
      "execution_count": null
    },
    {
      "cell_type": "markdown",
      "metadata": {
        "id": "ZEGpdrpdECG3"
      },
      "source": [
        "## Text Encoding: Handling Different Characters\n",
        "\n",
        "Modern applications need to handle international characters:"
      ]
    },
    {
      "cell_type": "code",
      "metadata": {
        "id": "dQ-uywHRECG3"
      },
      "source": [
        "# Create a file with special characters\n",
        "special_text = \"Hello World! 🌍\\nPython is awesome! 🐍\\nChinese: 你好\\nEmoji: 😀\"\n",
        "\n",
        "with open('output/unicode_test.txt', 'w', encoding='utf-8') as f:\n",
        "    f.write(special_text)\n",
        "\n",
        "print(\"✓ Unicode file created\")\n",
        "\n",
        "# Read it back correctly\n",
        "with open('output/unicode_test.txt', 'r', encoding='utf-8') as f:\n",
        "    content = f.read()\n",
        "    print(\"\\n🌐 Unicode content:\")\n",
        "    print(content)\n",
        "\n",
        "print(\"\\n💡 Important: Always specify encoding='utf-8' for consistent behavior!\")"
      ],
      "outputs": [],
      "execution_count": null
    },
    {
      "cell_type": "markdown",
      "metadata": {
        "id": "wG5NQjG-ECG4"
      },
      "source": [
        "# Level 4: Professional Applications - CSV, JSON, and Real Data\n",
        "\n",
        "## Working with CSV Files\n",
        "\n",
        "CSV (Comma-Separated Values) files are everywhere in data work:"
      ]
    },
    {
      "cell_type": "code",
      "metadata": {
        "id": "GrgenNOgECG4"
      },
      "source": [
        "import csv\n",
        "\n",
        "# Reading CSV file\n",
        "print(\"📊 Reading CSV file:\")\n",
        "with open('data/sales_data.csv', 'r', encoding='utf-8') as f:\n",
        "    reader = csv.reader(f)\n",
        "    header = next(reader)  # Get header row\n",
        "    print(\"Header:\", header)\n",
        "\n",
        "    for row_num, row in enumerate(reader, 1):\n",
        "        print(f\"Record {row_num}: {row}\")\n",
        "\n",
        "print(\"\\n\" + \"=\"*50)\n",
        "\n",
        "# CSV with Dictionaries (More Powerful)\n",
        "print(\"📈 Reading CSV as dictionaries:\")\n",
        "with open('data/sales_data.csv', 'r', encoding='utf-8') as f:\n",
        "    dict_reader = csv.DictReader(f)\n",
        "\n",
        "    total_sales = 0\n",
        "    for sale in dict_reader:\n",
        "        total = float(sale['Total'])\n",
        "        total_sales += total\n",
        "        print(f\"{sale['Product']}: ${sale['Total']} ({sale['Category']})\")\n",
        "\n",
        "    print(f\"\\n💰 Total Sales: ${total_sales:.2f}\")"
      ],
      "outputs": [],
      "execution_count": null
    },
    {
      "cell_type": "markdown",
      "metadata": {
        "id": "h-S4kzQnECG4"
      },
      "source": [
        "## 🎯 Your Turn: CSV Analysis Challenge\n",
        "\n",
        "Analyze the sales data and create a summary report!"
      ]
    },
    {
      "cell_type": "code",
      "metadata": {
        "id": "bCOVpEcKECG4"
      },
      "source": [
        "# Your task: Analyze sales data and create a summary\n",
        "# Calculate: total sales, average sale, best-selling category\n",
        "\n",
        "import csv\n",
        "from collections import defaultdict\n",
        "\n",
        "# Initialize variables\n",
        "total_sales = 0\n",
        "sale_count = 0\n",
        "category_sales = defaultdict(float)\n",
        "\n",
        "# Step 1: Read the CSV file\n",
        "# Step 2: Calculate total sales and count\n",
        "# Step 3: Track sales by category\n",
        "# Step 4: Find the best-selling category\n",
        "# Step 5: Write summary to a new file\n",
        "\n",
        "# Write your code here:\n",
        "\n",
        "\n",
        "# Calculate and display results (uncomment when ready)\n",
        "# average_sale = total_sales / sale_count if sale_count > 0 else 0\n",
        "# best_category = max(category_sales, key=category_sales.get)\n",
        "\n",
        "# print(f\"📊 Sales Analysis:\")\n",
        "# print(f\"Total Sales: ${total_sales:.2f}\")\n",
        "# print(f\"Average Sale: ${average_sale:.2f}\")\n",
        "# print(f\"Best Category: {best_category} (${category_sales[best_category]:.2f})\")\n",
        "\n",
        "# Write summary to file\n",
        "# summary = f\"\"\"Sales Analysis Report\n",
        "# =====================\n",
        "# Total Sales: ${total_sales:.2f}\n",
        "# Average Sale: ${average_sale:.2f}\n",
        "# Best Category: {best_category}\n",
        "\n",
        "# Category Breakdown:\n",
        "# \"\"\"\n",
        "\n",
        "# for category, amount in category_sales.items():\n",
        "#     summary += f\"{category}: ${amount:.2f}\\n\"\n",
        "\n",
        "# with open('output/sales_summary.txt', 'w', encoding='utf-8') as f:\n",
        "#     f.write(summary)\n",
        "\n",
        "# print(\"\\n✓ Summary saved to output/sales_summary.txt\")"
      ],
      "outputs": [],
      "execution_count": null
    },
    {
      "cell_type": "markdown",
      "metadata": {
        "id": "D17CfMqCECG4"
      },
      "source": [
        "## Working with JSON Files\n",
        "\n",
        "JSON is perfect for configuration and structured data:"
      ]
    },
    {
      "cell_type": "code",
      "metadata": {
        "id": "DwXHWEh0ECG6"
      },
      "source": [
        "import json\n",
        "\n",
        "# Reading JSON configuration\n",
        "with open('data/config.json', 'r', encoding='utf-8') as f:\n",
        "    config = json.load(f)\n",
        "\n",
        "print(\"⚙️ Application Configuration:\")\n",
        "print(f\"App Name: {config['application']['name']}\")\n",
        "print(f\"Version: {config['application']['version']}\")\n",
        "print(f\"Debug Mode: {config['application']['debug_mode']}\")\n",
        "\n",
        "print(\"\\n🗄️ Database Settings:\")\n",
        "for key, value in config['database'].items():\n",
        "    print(f\"  {key}: {value}\")\n",
        "\n",
        "# Modify and save configuration\n",
        "config['application']['debug_mode'] = True\n",
        "config['features']['new_feature'] = True\n",
        "\n",
        "with open('output/updated_config.json', 'w', encoding='utf-8') as f:\n",
        "    json.dump(config, f, indent=2)\n",
        "\n",
        "print(\"\\n✓ Updated configuration saved to output/updated_config.json\")"
      ],
      "outputs": [],
      "execution_count": null
    },
    {
      "cell_type": "markdown",
      "metadata": {
        "id": "ylddIGv1ECG7"
      },
      "source": [
        "## Text File Processing: Log Analysis\n",
        "\n",
        "Let's build a real log analyzer:"
      ]
    },
    {
      "cell_type": "code",
      "metadata": {
        "id": "G4oS3eUyECG7"
      },
      "source": [
        "import re\n",
        "from datetime import datetime\n",
        "from collections import Counter\n",
        "\n",
        "def analyze_log_file(log_filename):\n",
        "    \"\"\"Comprehensive log file analysis\"\"\"\n",
        "    log_levels = Counter()\n",
        "    timestamps = []\n",
        "    error_messages = []\n",
        "\n",
        "    try:\n",
        "        with open(log_filename, 'r', encoding='utf-8') as f:\n",
        "            for line_num, line in enumerate(f, 1):\n",
        "                line = line.strip()\n",
        "                if not line:\n",
        "                    continue\n",
        "\n",
        "                # Extract timestamp and log level\n",
        "                match = re.match(r'\\[(\\d{4}-\\d{2}-\\d{2} \\d{2}:\\d{2}:\\d{2})\\] (\\w+): (.+)', line)\n",
        "                if match:\n",
        "                    timestamp_str, level, message = match.groups()\n",
        "\n",
        "                    # Count log levels\n",
        "                    log_levels[level] += 1\n",
        "\n",
        "                    # Store timestamps\n",
        "                    timestamps.append(timestamp_str)\n",
        "\n",
        "                    # Collect error messages\n",
        "                    if level == 'ERROR':\n",
        "                        error_messages.append(message)\n",
        "\n",
        "        return {\n",
        "            'log_levels': dict(log_levels),\n",
        "            'total_entries': sum(log_levels.values()),\n",
        "            'error_messages': error_messages,\n",
        "            'time_range': (timestamps[0], timestamps[-1]) if timestamps else None\n",
        "        }\n",
        "\n",
        "    except Exception as e:\n",
        "        print(f\"Error analyzing log: {e}\")\n",
        "        return None\n",
        "\n",
        "# Analyze our log file\n",
        "analysis = analyze_log_file('data/application.log')\n",
        "\n",
        "if analysis:\n",
        "    print(\"📋 Log Analysis Results:\")\n",
        "    print(f\"Total Entries: {analysis['total_entries']}\")\n",
        "\n",
        "    print(\"\\n📊 Log Level Distribution:\")\n",
        "    for level, count in analysis['log_levels'].items():\n",
        "        percentage = (count / analysis['total_entries']) * 100\n",
        "        print(f\"  {level}: {count} ({percentage:.1f}%)\")\n",
        "\n",
        "    if analysis['error_messages']:\n",
        "        print(\"\\n🚨 Error Messages:\")\n",
        "        for i, error in enumerate(analysis['error_messages'], 1):\n",
        "            print(f\"  {i}. {error}\")\n",
        "\n",
        "    if analysis['time_range']:\n",
        "        print(f\"\\n⏰ Time Range: {analysis['time_range'][0]} to {analysis['time_range'][1]}\")"
      ],
      "outputs": [],
      "execution_count": null
    },
    {
      "cell_type": "markdown",
      "metadata": {
        "id": "0-lEl5eBECG7"
      },
      "source": [
        "## Best Practices Summary\n",
        "\n",
        "Here are the key principles for professional file handling:"
      ]
    },
    {
      "cell_type": "code",
      "metadata": {
        "id": "hB67SryuECG7"
      },
      "source": [
        "print(\"✅ File Handling Best Practices:\")\n",
        "print()\n",
        "print(\"1. Always use 'with' statements:\")\n",
        "print(\"   with open('file.txt', 'r', encoding='utf-8') as f:\")\n",
        "print(\"       content = f.read()\")\n",
        "print()\n",
        "print(\"2. Always specify encoding:\")\n",
        "print(\"   encoding='utf-8' for consistent behavior\")\n",
        "print()\n",
        "print(\"3. Handle exceptions appropriately:\")\n",
        "print(\"   try/except blocks for FileNotFoundError, PermissionError\")\n",
        "print()\n",
        "print(\"4. Use iteration for large files:\")\n",
        "print(\"   for line in f:  # Memory efficient!\")\n",
        "print()\n",
        "print(\"5. Choose the right file mode:\")\n",
        "print(\"   'r' for reading, 'w' for writing, 'a' for appending\")\n",
        "print()\n",
        "print(\"6. Use appropriate libraries:\")\n",
        "print(\"   csv module for CSV files, json module for JSON files\")"
      ],
      "outputs": [],
      "execution_count": null
    },
    {
      "cell_type": "markdown",
      "metadata": {
        "id": "DAGNRebbECG7"
      },
      "source": [
        "# Level 5: Hands-On Practice - Progressive Challenges\n",
        "\n",
        "## Challenge 1: Personal Notes System (Beginner)\n",
        "\n",
        "Create a simple note-taking system:"
      ]
    },
    {
      "cell_type": "code",
      "metadata": {
        "id": "EgFzrOqtECG7"
      },
      "source": [
        "# Your task: Complete this function\n",
        "from datetime import datetime\n",
        "\n",
        "def create_note(filename, title, content):\n",
        "    \"\"\"Create a note file with title and content\"\"\"\n",
        "    # Step 1: Get current timestamp\n",
        "    # Step 2: Format the note with title, timestamp, and content\n",
        "    # Step 3: Write to file\n",
        "    # Step 4: Confirm creation\n",
        "\n",
        "    # Write your code here:\n",
        "    pass\n",
        "\n",
        "def read_note(filename):\n",
        "    \"\"\"Read and display a note file\"\"\"\n",
        "    # Step 1: Safely read the file\n",
        "    # Step 2: Display formatted content\n",
        "\n",
        "    # Write your code here:\n",
        "    pass\n",
        "\n",
        "# Test your functions (uncomment when ready)\n",
        "# create_note('output/my_note.txt', 'Learning Python', 'Today I learned file handling!')\n",
        "# read_note('output/my_note.txt')"
      ],
      "outputs": [],
      "execution_count": null
    },
    {
      "cell_type": "markdown",
      "metadata": {
        "id": "6gIq2ZxgECG7"
      },
      "source": [
        "## Challenge 2: Data Processing Pipeline (Intermediate)\n",
        "\n",
        "Build a complete data processing pipeline:"
      ]
    },
    {
      "cell_type": "code",
      "metadata": {
        "id": "pfhR0OcPECG7"
      },
      "source": [
        "# Your task: Create a data processing pipeline\n",
        "# Read sales data, process it, and generate multiple reports\n",
        "\n",
        "import csv\n",
        "import json\n",
        "from collections import defaultdict\n",
        "\n",
        "def process_sales_data():\n",
        "    \"\"\"Complete sales data processing pipeline\"\"\"\n",
        "\n",
        "    # Step 1: Read sales data from CSV\n",
        "    # Step 2: Calculate various statistics\n",
        "    # Step 3: Generate text report\n",
        "    # Step 4: Generate JSON summary\n",
        "    # Step 5: Create CSV with processed data\n",
        "\n",
        "    # Initialize data structures\n",
        "    sales_data = []\n",
        "    category_stats = defaultdict(lambda: {'total': 0, 'count': 0, 'items': []})\n",
        "\n",
        "    # Write your code here:\n",
        "\n",
        "\n",
        "    print(\"✅ Data processing pipeline completed!\")\n",
        "    print(\"📄 Generated files:\")\n",
        "    print(\"  - output/sales_report.txt\")\n",
        "    print(\"  - output/sales_summary.json\")\n",
        "    print(\"  - output/processed_sales.csv\")\n",
        "\n",
        "# Run the pipeline (uncomment when ready)\n",
        "# process_sales_data()"
      ],
      "outputs": [],
      "execution_count": null
    },
    {
      "cell_type": "markdown",
      "metadata": {
        "id": "HbEbQoVqECG7"
      },
      "source": [
        "## Challenge 3: Log Monitoring System (Advanced)\n",
        "\n",
        "Build a comprehensive log monitoring system:"
      ]
    },
    {
      "cell_type": "code",
      "metadata": {
        "id": "caiiDFnKECG7"
      },
      "source": [
        "# Your task: Create a log monitoring and alerting system\n",
        "# Analyze logs, detect patterns, and generate alerts\n",
        "\n",
        "import re\n",
        "from datetime import datetime, timedelta\n",
        "from collections import Counter, defaultdict\n",
        "\n",
        "class LogMonitor:\n",
        "    def __init__(self, log_file):\n",
        "        self.log_file = log_file\n",
        "        self.alerts = []\n",
        "        self.stats = defaultdict(int)\n",
        "\n",
        "    def analyze_logs(self):\n",
        "        \"\"\"Analyze log file and detect issues\"\"\"\n",
        "        # Step 1: Read and parse log entries\n",
        "        # Step 2: Count different log levels\n",
        "        # Step 3: Detect error patterns\n",
        "        # Step 4: Check for time-based anomalies\n",
        "        # Step 5: Generate alerts\n",
        "\n",
        "        # Write your code here:\n",
        "        pass\n",
        "\n",
        "    def generate_report(self):\n",
        "        \"\"\"Generate comprehensive monitoring report\"\"\"\n",
        "        # Step 1: Create summary statistics\n",
        "        # Step 2: List all alerts\n",
        "        # Step 3: Provide recommendations\n",
        "        # Step 4: Save to file\n",
        "\n",
        "        # Write your code here:\n",
        "        pass\n",
        "\n",
        "# Test the log monitor (uncomment when ready)\n",
        "# monitor = LogMonitor('data/application.log')\n",
        "# monitor.analyze_logs()\n",
        "# monitor.generate_report()"
      ],
      "outputs": [],
      "execution_count": null
    },
    {
      "cell_type": "markdown",
      "metadata": {
        "id": "P6UXmQwRECG7"
      },
      "source": [
        "## Challenge 4: File Backup System (Expert)\n",
        "\n",
        "Create an automated backup system with versioning:"
      ]
    },
    {
      "cell_type": "code",
      "metadata": {
        "id": "Rt7hXwG6ECG7"
      },
      "source": [
        "# Your task: Create a comprehensive backup system\n",
        "# Include versioning, compression, and integrity checks\n",
        "\n",
        "import os\n",
        "import shutil\n",
        "import hashlib\n",
        "from datetime import datetime\n",
        "import json\n",
        "\n",
        "class BackupSystem:\n",
        "    def __init__(self, source_dir, backup_dir):\n",
        "        self.source_dir = source_dir\n",
        "        self.backup_dir = backup_dir\n",
        "        self.backup_log = []\n",
        "\n",
        "    def create_backup(self):\n",
        "        \"\"\"Create timestamped backup with integrity checks\"\"\"\n",
        "        # Step 1: Create timestamped backup directory\n",
        "        # Step 2: Copy files with verification\n",
        "        # Step 3: Generate checksums\n",
        "        # Step 4: Create backup manifest\n",
        "        # Step 5: Log the backup operation\n",
        "\n",
        "        # Write your code here:\n",
        "        pass\n",
        "\n",
        "    def verify_backup(self, backup_path):\n",
        "        \"\"\"Verify backup integrity\"\"\"\n",
        "        # Step 1: Read backup manifest\n",
        "        # Step 2: Verify file checksums\n",
        "        # Step 3: Report verification results\n",
        "\n",
        "        # Write your code here:\n",
        "        pass\n",
        "\n",
        "    def list_backups(self):\n",
        "        \"\"\"List all available backups\"\"\"\n",
        "        # Step 1: Scan backup directory\n",
        "        # Step 2: Read backup manifests\n",
        "        # Step 3: Display backup information\n",
        "\n",
        "        # Write your code here:\n",
        "        pass\n",
        "\n",
        "# Test the backup system (uncomment when ready)\n",
        "# backup_system = BackupSystem('data', 'backups')\n",
        "# backup_system.create_backup()\n",
        "# backup_system.list_backups()"
      ],
      "outputs": [],
      "execution_count": null
    },
    {
      "cell_type": "markdown",
      "metadata": {
        "id": "TwaAuYOcECG7"
      },
      "source": [
        "## Final Project: Complete File Management System\n",
        "\n",
        "Combine everything you've learned into a comprehensive file management system:"
      ]
    },
    {
      "cell_type": "code",
      "metadata": {
        "id": "SsiEwg0fECG7"
      },
      "source": [
        "# Your final challenge: Create a complete file management system\n",
        "# Features: file operations, data processing, monitoring, and backup\n",
        "\n",
        "class FileManager:\n",
        "    \"\"\"Complete file management system\"\"\"\n",
        "\n",
        "    def __init__(self, workspace_dir):\n",
        "        self.workspace = workspace_dir\n",
        "        self.ensure_workspace()\n",
        "\n",
        "    def ensure_workspace(self):\n",
        "        \"\"\"Create workspace directory structure\"\"\"\n",
        "        # Create necessary directories\n",
        "        pass\n",
        "\n",
        "    def process_csv_data(self, csv_file):\n",
        "        \"\"\"Process CSV data and generate reports\"\"\"\n",
        "        # Implement CSV processing\n",
        "        pass\n",
        "\n",
        "    def monitor_logs(self, log_file):\n",
        "        \"\"\"Monitor log files and generate alerts\"\"\"\n",
        "        # Implement log monitoring\n",
        "        pass\n",
        "\n",
        "    def backup_files(self, source_pattern):\n",
        "        \"\"\"Backup files matching pattern\"\"\"\n",
        "        # Implement backup functionality\n",
        "        pass\n",
        "\n",
        "    def generate_dashboard(self):\n",
        "        \"\"\"Generate HTML dashboard with all information\"\"\"\n",
        "        # Create comprehensive dashboard\n",
        "        pass\n",
        "\n",
        "# Your implementation here:\n",
        "# Create an instance and test all features\n",
        "\n",
        "print(\"🎯 Final Project: File Management System\")\n",
        "print(\"Implement all the features you've learned:\")\n",
        "print(\"- File reading/writing with error handling\")\n",
        "print(\"- CSV and JSON processing\")\n",
        "print(\"- Log analysis and monitoring\")\n",
        "print(\"- Backup and versioning\")\n",
        "print(\"- Dashboard generation\")\n",
        "print(\"\\nGood luck! 🚀\")"
      ],
      "outputs": [],
      "execution_count": null
    },
    {
      "cell_type": "markdown",
      "metadata": {
        "id": "MxeC6Y-hECG7"
      },
      "source": [
        "# Conclusion and Next Steps\n",
        "\n",
        "## What You've Accomplished 🎉\n",
        "\n",
        "Congratulations! You've completed a comprehensive journey through Python file handling. You now have:\n",
        "\n",
        "### ✅ Core Skills Mastered\n",
        "- **Basic File Operations**: open, read, write, close\n",
        "- **Safe File Handling**: Using `with` statements\n",
        "- **Error Handling**: Graceful exception management\n",
        "- **Text Encoding**: UTF-8 and international characters\n",
        "\n",
        "### ✅ Advanced Techniques\n",
        "- **CSV Processing**: Reading and writing structured data\n",
        "- **JSON Handling**: Configuration and API data\n",
        "- **Log Analysis**: Real-world text processing\n",
        "- **File Modes**: Understanding r, w, a, x modes\n",
        "\n",
        "### ✅ Professional Practices\n",
        "- **Best Practices**: Production-ready code patterns\n",
        "- **Error Recovery**: Robust error handling\n",
        "- **Performance**: Memory-efficient file processing\n",
        "- **Security**: Safe file operations\n",
        "\n",
        "## Next Steps in Your Python Journey 🚀\n",
        "\n",
        "### Immediate Applications\n",
        "- **Data Analysis**: Process real datasets with pandas\n",
        "- **Web Development**: Handle user uploads and configuration\n",
        "- **Automation**: Create file processing scripts\n",
        "- **System Administration**: Log analysis and monitoring\n",
        "\n",
        "### Advanced Topics to Explore\n",
        "- **Binary Files**: Images, videos, and binary data\n",
        "- **Database Integration**: SQLite and file-based databases\n",
        "- **Network Files**: FTP, HTTP file operations\n",
        "- **Compression**: ZIP, GZIP file handling\n",
        "\n",
        "### Recommended Libraries\n",
        "- **Pandas**: Advanced data file processing\n",
        "- **Pathlib**: Modern file path handling\n",
        "- **Openpyxl**: Excel file manipulation\n",
        "- **Requests**: Download files from web APIs\n",
        "\n",
        "## Keep Practicing! 💪\n",
        "\n",
        "The best way to master file handling is through practice with real data:\n",
        "\n",
        "1. **Find real datasets** online (Kaggle, government data)\n",
        "2. **Build practical projects** (log analyzers, data processors)\n",
        "3. **Contribute to open source** projects using file handling\n",
        "4. **Create your own tools** for daily file management tasks\n",
        "\n",
        "---\n",
        "\n",
        "**Thank you for completing this tutorial!** 🙏\n",
        "\n",
        "You're now equipped with solid file handling skills that will serve you well in your Python programming journey. Remember: practice makes perfect, and real-world projects are the best teachers.\n",
        "\n",
        "**Happy Coding!** 🐍✨"
      ]
    }
  ],
  "metadata": {
    "kernelspec": {
      "display_name": "Python [conda env:base] *",
      "language": "python",
      "name": "conda-base-py"
    },
    "language_info": {
      "codemirror_mode": {
        "name": "ipython",
        "version": 3
      },
      "file_extension": ".py",
      "mimetype": "text/x-python",
      "name": "python",
      "nbconvert_exporter": "python",
      "pygments_lexer": "ipython3",
      "version": "3.12.7"
    },
    "colab": {
      "provenance": [],
      "include_colab_link": true
    }
  },
  "nbformat": 4,
  "nbformat_minor": 0
}